{
 "cells": [
  {
   "cell_type": "code",
   "execution_count": 5,
   "id": "ec2db7bf",
   "metadata": {},
   "outputs": [],
   "source": [
    "from pyspark.sql import SparkSession\n",
    "spark = SparkSession.builder.appName('DA_Test').config(\"spark.jars.packages\", \"com.crealytics:spark-excel_2.12:0.13.7\").getOrCreate()\n",
    "from pyspark.sql import *\n",
    "import pyspark.sql.functions as F\n",
    "from pyspark.sql.functions import col, regexp_replace, date_format, to_timestamp, expr,from_unixtime,unix_timestamp,concat_ws, when"
   ]
  },
  {
   "cell_type": "code",
   "execution_count": 7,
   "id": "c96094c9",
   "metadata": {},
   "outputs": [],
   "source": [
    "df = spark.read \\\n",
    "    .format(\"com.crealytics.spark.excel\") \\\n",
    "    .option(\"header\", \"true\") \\\n",
    "    .option(\"inferSchema\", \"true\") \\\n",
    "    .load(\"data/Python_exercise1.xlsx\")\n",
    "    "
   ]
  },
  {
   "cell_type": "code",
   "execution_count": 11,
   "id": "e6d68db7",
   "metadata": {},
   "outputs": [
    {
     "name": "stdout",
     "output_type": "stream",
     "text": [
      "+---+---------------------+------+---------------+-----+-----------+-----------+-------+----------+--------------+------+-----------------+-------------------+----------------+--------------+------------------+----------------+------+----------------+--------+------+----------+--------+-------+-------+----------------+---------------+------------+------------+---------+---------+------------+-------+---------+--------+---------+------+---------+----------+----------+-----+----+-----------+----------------+----------------+---------------------+--------------------------------------------------------------+-------------------------------+\n",
      "|No |Time                 |Level |Firewall Action|User |Source     |Destination|Service|Sent Bytes|Received Bytes|Threat|Application      |Application Details|Application Type|Application ID|Application Action|Application List|Attack|Device ID       |Duration|Log ID|Session ID|Sub Type|Type   |Message|Destination Name|Security Action|UTM Severity|UTM Sub Type|UTM Event|Policy ID|Tran Display|Tran IP|Tran Port|Protocol|File Name|Sender|Recipient|Mail Count|Spam Count|Virus|VDom|Source Port|Destination Port|Source Interface|Destination Interface|ReporttoManager                                               |enName                         |\n",
      "+---+---------------------+------+---------------+-----+-----------+-----------+-------+----------+--------------+------+-----------------+-------------------+----------------+--------------+------------------+----------------+------+----------------+--------+------+----------+--------+-------+-------+----------------+---------------+------------+------------+---------+---------+------------+-------+---------+--------+---------+------+---------+----------+----------+-----+----+-----------+----------------+----------------+---------------------+--------------------------------------------------------------+-------------------------------+\n",
      "|1.0|1/8/2022  10.01.00 AM|notice|client-rst     |guest|192.168.2.4|13.107.4.50|HTTP   |2451.0    |9327.0        |null  |MS.Windows.Update|null               |unscanned       |null          |null              |null            |null  |FGT80E4Q17012201|180.0   |13.0  |2671211.0 |forward |traffic|null   |null            |null           |null        |null        |null     |2.0      |noop        |null   |null     |17.0    |null     |null  |null     |null      |null      |null |root|54532.0    |53.0            |WIFI-1          |Lan-vlan             |CN=d921478,OU=People,OU=eProfile,DC=core,DC=dir,DC=tdog,DC=com|wsaddc0005.core.dir.company.com|\n",
      "+---+---------------------+------+---------------+-----+-----------+-----------+-------+----------+--------------+------+-----------------+-------------------+----------------+--------------+------------------+----------------+------+----------------+--------+------+----------+--------+-------+-------+----------------+---------------+------------+------------+---------+---------+------------+-------+---------+--------+---------+------+---------+----------+----------+-----+----+-----------+----------------+----------------+---------------------+--------------------------------------------------------------+-------------------------------+\n",
      "only showing top 1 row\n",
      "\n"
     ]
    }
   ],
   "source": [
    "df.show(1,False)"
   ]
  },
  {
   "cell_type": "code",
   "execution_count": 107,
   "id": "03589aad",
   "metadata": {},
   "outputs": [],
   "source": [
    "from pyspark.sql.functions import to_date, to_timestamp,trim,regexp_extract"
   ]
  },
  {
   "cell_type": "code",
   "execution_count": 23,
   "id": "bc2d60ef",
   "metadata": {},
   "outputs": [],
   "source": [
    "df = df.withColumn('Time_temp', regexp_replace(col('Time'), '\\.', ':'))"
   ]
  },
  {
   "cell_type": "code",
   "execution_count": 42,
   "id": "6a154765",
   "metadata": {},
   "outputs": [
    {
     "data": {
      "text/plain": [
       "[('No', 'double'),\n",
       " ('Time', 'string'),\n",
       " ('Level', 'string'),\n",
       " ('Firewall Action', 'string'),\n",
       " ('User', 'string'),\n",
       " ('Source', 'string'),\n",
       " ('Destination', 'string'),\n",
       " ('Service', 'string'),\n",
       " ('Sent Bytes', 'double'),\n",
       " ('Received Bytes', 'double'),\n",
       " ('Threat', 'string'),\n",
       " ('Application', 'string'),\n",
       " ('Application Details', 'string'),\n",
       " ('Application Type', 'string'),\n",
       " ('Application ID', 'double'),\n",
       " ('Application Action', 'string'),\n",
       " ('Application List', 'string'),\n",
       " ('Attack', 'string'),\n",
       " ('Device ID', 'string'),\n",
       " ('Duration', 'double'),\n",
       " ('Log ID', 'double'),\n",
       " ('Session ID', 'double'),\n",
       " ('Sub Type', 'string'),\n",
       " ('Type', 'string'),\n",
       " ('Message', 'string'),\n",
       " ('Destination Name', 'string'),\n",
       " ('Security Action', 'string'),\n",
       " ('UTM Severity', 'string'),\n",
       " ('UTM Sub Type', 'string'),\n",
       " ('UTM Event', 'string'),\n",
       " ('Policy ID', 'double'),\n",
       " ('Tran Display', 'string'),\n",
       " ('Tran IP', 'string'),\n",
       " ('Tran Port', 'double'),\n",
       " ('Protocol', 'double'),\n",
       " ('File Name', 'string'),\n",
       " ('Sender', 'string'),\n",
       " ('Recipient', 'string'),\n",
       " ('Mail Count', 'string'),\n",
       " ('Spam Count', 'string'),\n",
       " ('Virus', 'string'),\n",
       " ('VDom', 'string'),\n",
       " ('Source Port', 'double'),\n",
       " ('Destination Port', 'double'),\n",
       " ('Source Interface', 'string'),\n",
       " ('Destination Interface', 'string'),\n",
       " ('ReporttoManager', 'string'),\n",
       " ('enName', 'string'),\n",
       " ('timestamp_col', 'timestamp'),\n",
       " ('Time_temp', 'string'),\n",
       " ('cleaned_text', 'string')]"
      ]
     },
     "execution_count": 42,
     "metadata": {},
     "output_type": "execute_result"
    }
   ],
   "source": [
    "df.dtypes"
   ]
  },
  {
   "cell_type": "code",
   "execution_count": 66,
   "id": "a645a32f",
   "metadata": {},
   "outputs": [
    {
     "name": "stdout",
     "output_type": "stream",
     "text": [
      "+---------------------+---+-----+----+----+------+------+\n",
      "|Time_temp            |day|month|year|hour|minute|second|\n",
      "+---------------------+---+-----+----+----+------+------+\n",
      "|1/8/2022  10:01:00 AM|1  |8    |2022|10  |01    |00    |\n",
      "|1/8/2022  10:01:00 AM|1  |8    |2022|10  |01    |00    |\n",
      "|1/8/2022  10:01:00 AM|1  |8    |2022|10  |01    |00    |\n",
      "|1/8/2022  10:01:00 AM|1  |8    |2022|10  |01    |00    |\n",
      "|1/8/2022  10:01:00 AM|1  |8    |2022|10  |01    |00    |\n",
      "|1/8/2022  10:01:00 AM|1  |8    |2022|10  |01    |00    |\n",
      "|1/8/2022  10:01:00 AM|1  |8    |2022|10  |01    |00    |\n",
      "|1/8/2022  10:01:00 AM|1  |8    |2022|10  |01    |00    |\n",
      "|1/8/2022  10:01:00 AM|1  |8    |2022|10  |01    |00    |\n",
      "|1/8/2022  10:01:00 AM|1  |8    |2022|10  |01    |00    |\n",
      "|1/8/2022  10:01:00 AM|1  |8    |2022|10  |01    |00    |\n",
      "|1/8/2022  10:01:00 AM|1  |8    |2022|10  |01    |00    |\n",
      "|1/8/2022  10:01:00 AM|1  |8    |2022|10  |01    |00    |\n",
      "|1/8/2022  10:01:00 AM|1  |8    |2022|10  |01    |00    |\n",
      "|1/8/2022  10:01:00 AM|1  |8    |2022|10  |01    |00    |\n",
      "|1/8/2022  10:01:00 AM|1  |8    |2022|10  |01    |00    |\n",
      "|1/8/2022  10:01:00 AM|1  |8    |2022|10  |01    |00    |\n",
      "|1/8/2022  10:01:00 AM|1  |8    |2022|10  |01    |00    |\n",
      "|1/8/2022  10:01:00 AM|1  |8    |2022|10  |01    |00    |\n",
      "|1/8/2022  10:01:00 AM|1  |8    |2022|10  |01    |00    |\n",
      "+---------------------+---+-----+----+----+------+------+\n",
      "only showing top 20 rows\n",
      "\n"
     ]
    }
   ],
   "source": [
    "from pyspark.sql.functions import regexp_replace, concat, lpad, col,lit\n",
    "#from pyspark.sql import SparkSession\n",
    "from pyspark.sql.functions import regexp_replace, concat, lpad, col,lit,split,size\n",
    "from pyspark.sql.types import StringType\n",
    "\n",
    "# Initialize Spark session\n",
    "#spark = SparkSession.builder.appName(\"DateConversionWithRegex\").getOrCreate()\n",
    "\n",
    "# Extract components using regexp_extract\n",
    "df = df.withColumn(\"date\", split(df[\"Time_temp\"], \" \")[0])\n",
    "df = df.withColumn(\"time\", split(df[\"Time_temp\"], \"  \")[1])\n",
    "\n",
    "# Extract date components\n",
    "df = df.withColumn(\"day\", split(df[\"date\"], \"/\")[0].cast(\"int\"))\n",
    "df = df.withColumn(\"month\", split(df[\"date\"], \"/\")[1].cast(\"int\"))\n",
    "df = df.withColumn(\"year\", split(df[\"date\"], \"/\")[2].cast(\"int\"))\n",
    "\n",
    "\n",
    "\n",
    "df = df.withColumn(\"hour\", split(df[\"time\"], \":\")[0])\n",
    "\n",
    "df = df.withColumn(\"minute\", split(df[\"time\"], \":\")[1])\n",
    "\n",
    "df = df.withColumn(\"second\", split(df[\"time\"], \":\")[2].substr(1,2))\n",
    "\n",
    "\n",
    "# Show the results\n",
    "df.select(\"Time_temp\", \"day\",\"month\",\"year\",\"hour\",\"minute\",\"second\").show(truncate=False)\n"
   ]
  },
  {
   "cell_type": "code",
   "execution_count": 67,
   "id": "6305c833",
   "metadata": {},
   "outputs": [
    {
     "name": "stdout",
     "output_type": "stream",
     "text": [
      "+-------------------+\n",
      "|time_new           |\n",
      "+-------------------+\n",
      "|10/01/00 01/08/2022|\n",
      "|10/03/00 01/08/2022|\n",
      "|10/04/00 01/08/2022|\n",
      "|10/07/00 01/08/2022|\n",
      "|10/02/00 01/08/2022|\n",
      "|10/06/00 01/08/2022|\n",
      "|10/05/00 01/08/2022|\n",
      "|10/09/00 01/08/2022|\n",
      "|10/13/00 01/08/2022|\n",
      "|10/08/00 01/08/2022|\n",
      "|10/12/00 01/08/2022|\n",
      "|10/11/00 01/08/2022|\n",
      "|10/10/00 01/08/2022|\n",
      "|10/19/00 01/08/2022|\n",
      "|10/15/00 01/08/2022|\n",
      "|10/17/00 01/08/2022|\n",
      "|10/14/00 01/08/2022|\n",
      "|10/16/00 01/08/2022|\n",
      "|10/18/00 01/08/2022|\n",
      "|10/25/00 01/08/2022|\n",
      "+-------------------+\n",
      "only showing top 20 rows\n",
      "\n"
     ]
    }
   ],
   "source": [
    "from pyspark.sql.functions import format_string\n",
    "df = df.withColumn(\"d1\", format_string(\"%02d\", col(\"month\")) )\n",
    "df = df.withColumn(\"d2\", format_string(\"%02d\", col(\"day\")) )\n",
    "df = df.withColumn(\"time\", concat_ws(\"/\", df[\"hour\"], df[\"minute\"], df[\"second\"]))\n",
    "df =df.withColumn(\"date\", concat_ws(\"/\" , df[\"d2\"], df[\"d1\"], df[\"year\"]))\n",
    "\n",
    "df =df.withColumn(\"time_new\", concat_ws(\" \",df[\"time\"],df[\"date\"]))\n",
    "#Assignment Q1 answer \n",
    "df.select(\"time_new\").distinct().show(truncate=False)"
   ]
  },
  {
   "cell_type": "code",
   "execution_count": null,
   "id": "6c225ad5",
   "metadata": {},
   "outputs": [],
   "source": [
    "#) Find and display the different values in the column \"Level\", \"Firewall\", \"User\", \"Service\" and its \n",
    "# distribution"
   ]
  },
  {
   "cell_type": "code",
   "execution_count": 71,
   "id": "30c7f5bf",
   "metadata": {},
   "outputs": [
    {
     "name": "stdout",
     "output_type": "stream",
     "text": [
      "+------+---------------+-------+--------+\n",
      "|Level |Firewall Action|User   |Service |\n",
      "+------+---------------+-------+--------+\n",
      "|notice|accept         |user2  |NTP     |\n",
      "|notice|client-rst     |pandora|HTTP    |\n",
      "|notice|timeout        |user1  |tcp/9100|\n",
      "|notice|close          |guest  |HTTP    |\n",
      "|notice|close          |pandora|HTTPS   |\n",
      "|notice|accept         |user2  |SNMP    |\n",
      "|notice|accept         |user1  |DNS     |\n",
      "|notice|client-rst     |guest  |HTTPS   |\n",
      "|notice|server-rst     |guest  |HTTP    |\n",
      "|notice|client-rst     |guest  |HTTP    |\n",
      "+------+---------------+-------+--------+\n",
      "only showing top 10 rows\n",
      "\n"
     ]
    }
   ],
   "source": [
    "df.select(\"Level\",\"Firewall Action\",\"User\",\"Service\").distinct().show(10,False)"
   ]
  },
  {
   "cell_type": "code",
   "execution_count": 75,
   "id": "d36c5453",
   "metadata": {},
   "outputs": [
    {
     "name": "stdout",
     "output_type": "stream",
     "text": [
      "+------+-----+\n",
      "|Level |count|\n",
      "+------+-----+\n",
      "|notice|7596 |\n",
      "|ignore|2914 |\n",
      "+------+-----+\n",
      "\n"
     ]
    }
   ],
   "source": [
    "df.groupby(\"Level\").count().show(10,False)"
   ]
  },
  {
   "cell_type": "code",
   "execution_count": 76,
   "id": "0625314a",
   "metadata": {},
   "outputs": [
    {
     "name": "stdout",
     "output_type": "stream",
     "text": [
      "+---------------+-----+\n",
      "|Firewall Action|count|\n",
      "+---------------+-----+\n",
      "|accept         |5223 |\n",
      "|timeout        |97   |\n",
      "|close          |3329 |\n",
      "|server-rst     |636  |\n",
      "|client-rst     |1223 |\n",
      "|deny           |2    |\n",
      "+---------------+-----+\n",
      "\n"
     ]
    }
   ],
   "source": [
    "df.groupby(\"Firewall Action\").count().show(10,False)"
   ]
  },
  {
   "cell_type": "code",
   "execution_count": 79,
   "id": "3645fb2c",
   "metadata": {},
   "outputs": [
    {
     "name": "stdout",
     "output_type": "stream",
     "text": [
      "+------------------------+-----+\n",
      "|Service                 |count|\n",
      "+------------------------+-----+\n",
      "|DNS                     |4998 |\n",
      "|udp/137                 |16   |\n",
      "|NTP                     |28   |\n",
      "|SNMP                    |51   |\n",
      "|udp/443                 |88   |\n",
      "|HTTPS                   |3815 |\n",
      "|tcp/9100                |76   |\n",
      "|HTTP                    |1180 |\n",
      "|KERBEROS                |54   |\n",
      "|LDAP_UDP                |7    |\n",
      "|Internet-Locator-Service|32   |\n",
      "|RDP                     |24   |\n",
      "|SMB                     |13   |\n",
      "|PING                    |30   |\n",
      "|tcp/7680                |4    |\n",
      "|tcp/49666               |18   |\n",
      "|DCE-RPC                 |35   |\n",
      "|udp/3544                |3    |\n",
      "|IMAPS                   |8    |\n",
      "|tcp/49672               |21   |\n",
      "|tcp/8080                |5    |\n",
      "|udp/46597               |1    |\n",
      "|udp/3389                |3    |\n",
      "+------------------------+-----+\n",
      "\n"
     ]
    }
   ],
   "source": [
    "df.groupby(\"Service\").count().show(200,False)"
   ]
  },
  {
   "cell_type": "code",
   "execution_count": 81,
   "id": "b914cd05",
   "metadata": {},
   "outputs": [
    {
     "name": "stdout",
     "output_type": "stream",
     "text": [
      "+--------------+-----+\n",
      "|User          |count|\n",
      "+--------------+-----+\n",
      "|user1         |3757 |\n",
      "|user2         |586  |\n",
      "|guest         |5980 |\n",
      "|pandora       |112  |\n",
      "|aiswaryasuresh|75   |\n",
      "+--------------+-----+\n",
      "\n"
     ]
    }
   ],
   "source": [
    "df.groupby(\"User\").count().show(10,False)"
   ]
  },
  {
   "cell_type": "markdown",
   "id": "8e83f703",
   "metadata": {},
   "source": [
    " Based on the column Service, if it is HTTPS and the Sent Bytes or Received Bytes are greater than \n",
    " 20000 set a flag as \"a_000x8\". If Service has any other value and the Sent Bytes or Received Bytes are \n",
    " greater than 10000 set a flag as \"v_000x2\" \n",
    "\n"
   ]
  },
  {
   "cell_type": "code",
   "execution_count": 84,
   "id": "670deda3",
   "metadata": {},
   "outputs": [
    {
     "name": "stdout",
     "output_type": "stream",
     "text": [
      "+-------+----------+--------------+\n",
      "|Service|Sent Bytes|Received Bytes|\n",
      "+-------+----------+--------------+\n",
      "|HTTPS  |8956.0    |3068.0        |\n",
      "|DNS    |57.0      |73.0          |\n",
      "|HTTPS  |662.0     |662.0         |\n",
      "|DNS    |85.0      |238.0         |\n",
      "|HTTPS  |4126.0    |52292.0       |\n",
      "|DNS    |148.0     |262.0         |\n",
      "|HTTPS  |2092.0    |9535.0        |\n",
      "|HTTPS  |3292.0    |43940.0       |\n",
      "|HTTPS  |3202.0    |50023.0       |\n",
      "|HTTPS  |3326.0    |8208.0        |\n",
      "+-------+----------+--------------+\n",
      "only showing top 10 rows\n",
      "\n"
     ]
    }
   ],
   "source": [
    "df.select(\"Service\",\"Sent Bytes\",\"Received Bytes\").distinct().show(10,False)"
   ]
  },
  {
   "cell_type": "code",
   "execution_count": 92,
   "id": "eef506b5",
   "metadata": {},
   "outputs": [],
   "source": [
    "df = df.withColumn(\"flag\", expr(\"\"\"\n",
    "    CASE \n",
    "        WHEN Service = 'HTTPS' OR `Sent Bytes` > 20000 OR `Received Bytes` > 20000 THEN 'a_000x8' \n",
    "        WHEN `Sent Bytes` > 10000 OR `Received Bytes` > 10000 THEN 'v_000x2' \n",
    "        ELSE NULL \n",
    "    END\n",
    "\"\"\"))"
   ]
  },
  {
   "cell_type": "code",
   "execution_count": 93,
   "id": "440af219",
   "metadata": {},
   "outputs": [
    {
     "name": "stdout",
     "output_type": "stream",
     "text": [
      "+-------+\n",
      "|flag   |\n",
      "+-------+\n",
      "|null   |\n",
      "|a_000x8|\n",
      "|v_000x2|\n",
      "+-------+\n",
      "\n"
     ]
    }
   ],
   "source": [
    "df.select(\"flag\").distinct().show(10,False)"
   ]
  },
  {
   "cell_type": "markdown",
   "id": "689e7905",
   "metadata": {},
   "source": [
    "How manu unqiue devices are there in the dataset?"
   ]
  },
  {
   "cell_type": "code",
   "execution_count": 100,
   "id": "34dc8943",
   "metadata": {},
   "outputs": [
    {
     "data": {
      "text/plain": [
       "4"
      ]
     },
     "execution_count": 100,
     "metadata": {},
     "output_type": "execute_result"
    }
   ],
   "source": [
    " df.select(\"Device ID\").distinct().count()"
   ]
  },
  {
   "cell_type": "markdown",
   "id": "edac10db",
   "metadata": {},
   "source": [
    "The field ReportToManager has CN=\"XXXXXXX\" which describes the user's manager. Find the manager \n",
    "to whom most users report to."
   ]
  },
  {
   "cell_type": "code",
   "execution_count": 116,
   "id": "d67129d4",
   "metadata": {},
   "outputs": [],
   "source": [
    "# df.dtypes"
   ]
  },
  {
   "cell_type": "code",
   "execution_count": 104,
   "id": "6107b38d",
   "metadata": {},
   "outputs": [
    {
     "name": "stdout",
     "output_type": "stream",
     "text": [
      "+--------------------------------------------------------------+\n",
      "|ReporttoManager                                               |\n",
      "+--------------------------------------------------------------+\n",
      "|CN=d921478,OU=People,OU=eProfile,DC=core,DC=dir,DC=tdog,DC=com|\n",
      "|CN=d921479,OU=People,OU=eProfile,DC=core,DC=dir,DC=tdog,DC=com|\n",
      "|CN=d921477,OU=People,OU=eProfile,DC=core,DC=dir,DC=tdog,DC=com|\n",
      "+--------------------------------------------------------------+\n",
      "\n"
     ]
    }
   ],
   "source": [
    "df.select(\"ReporttoManager\").distinct().show(10,False)"
   ]
  },
  {
   "cell_type": "code",
   "execution_count": 108,
   "id": "c5913bba",
   "metadata": {},
   "outputs": [
    {
     "name": "stdout",
     "output_type": "stream",
     "text": [
      "+-------+--------------------------------------------------------------+\n",
      "|CN     |ReporttoManager                                               |\n",
      "+-------+--------------------------------------------------------------+\n",
      "|d921478|CN=d921478,OU=People,OU=eProfile,DC=core,DC=dir,DC=tdog,DC=com|\n",
      "|d921479|CN=d921479,OU=People,OU=eProfile,DC=core,DC=dir,DC=tdog,DC=com|\n",
      "|d921477|CN=d921477,OU=People,OU=eProfile,DC=core,DC=dir,DC=tdog,DC=com|\n",
      "+-------+--------------------------------------------------------------+\n",
      "\n"
     ]
    }
   ],
   "source": [
    "df = df.withColumn(\"CN\", regexp_extract(\"ReporttoManager\", r\"CN=([^,]+)\", 1))\n",
    "df.select(\"CN\", \"ReporttoManager\").distinct().show(10,False)"
   ]
  },
  {
   "cell_type": "code",
   "execution_count": 114,
   "id": "503e24ac",
   "metadata": {},
   "outputs": [
    {
     "name": "stdout",
     "output_type": "stream",
     "text": [
      "+-------+-----+\n",
      "|CN     |count|\n",
      "+-------+-----+\n",
      "|d921478|5566 |\n",
      "|d921477|4912 |\n",
      "|d921479|32   |\n",
      "+-------+-----+\n",
      "\n"
     ]
    }
   ],
   "source": [
    "df.groupby(\"CN\").count().orderBy(col(\"count\").desc()).show(10,False)"
   ]
  },
  {
   "cell_type": "markdown",
   "id": "844c0075",
   "metadata": {},
   "source": [
    " Extract the fist component from the field enName and store is as a new column named enName1\n"
   ]
  },
  {
   "cell_type": "code",
   "execution_count": 118,
   "id": "9081c081",
   "metadata": {},
   "outputs": [],
   "source": [
    "df = df.withColumn(\"enName1\",split(df[\"enName\"],\"\\.\")[0])"
   ]
  },
  {
   "cell_type": "code",
   "execution_count": 119,
   "id": "799d0b59",
   "metadata": {},
   "outputs": [
    {
     "name": "stdout",
     "output_type": "stream",
     "text": [
      "+-------------------------------+----------+\n",
      "|enName                         |enName1   |\n",
      "+-------------------------------+----------+\n",
      "|wsaddc0007.core.dir.company.com|wsaddc0007|\n",
      "|wsaddc0005.core.dir.company.com|wsaddc0005|\n",
      "|wsaddc0002.core.dir.company.com|wsaddc0002|\n",
      "|wsaddc0001.core.dir.company.com|wsaddc0001|\n",
      "+-------------------------------+----------+\n",
      "\n"
     ]
    }
   ],
   "source": [
    "df.select(\"enName\",\"enName1\").distinct().show(10,False)"
   ]
  }
 ],
 "metadata": {
  "kernelspec": {
   "display_name": "Python 3 (ipykernel)",
   "language": "python",
   "name": "python3"
  },
  "language_info": {
   "codemirror_mode": {
    "name": "ipython",
    "version": 3
   },
   "file_extension": ".py",
   "mimetype": "text/x-python",
   "name": "python",
   "nbconvert_exporter": "python",
   "pygments_lexer": "ipython3",
   "version": "3.10.0"
  }
 },
 "nbformat": 4,
 "nbformat_minor": 5
}
